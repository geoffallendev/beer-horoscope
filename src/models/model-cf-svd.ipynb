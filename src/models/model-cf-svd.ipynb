{
 "cells": [
  {
   "cell_type": "markdown",
   "metadata": {},
   "source": [
    "In this model we will use a latent factors model, a popular approach to [collaborative filtering](https://en.wikipedia.org/wiki/Collaborative_filtering#:~:text=In%20the%20newer%2C%20narrower%20sense,from%20many%20users%20(collaborating).\n",
    "\n",
    "We will be using a truncated [SVD](https://en.wikipedia.org/wiki/Singular_value_decomposition), because unlike a standard SVD, a truncated SVD produces a factorization where the number of columns can be specifies for a number of truncation, saving memory and processing power.\n",
    "\n",
    "The sk-learn package has a module to build a truncated SVD. "
   ]
  },
  {
   "cell_type": "code",
   "execution_count": 2,
   "metadata": {},
   "outputs": [],
   "source": [
    "import pandas as pd\n",
    "import numpy as np\n",
    "import pickle\n",
    "\n",
    "from sklearn.decomposition import TruncatedSVD\n",
    "from sklearn.preprocessing import StandardScaler\n",
    "import matplotlib.pyplot as plt"
   ]
  },
  {
   "cell_type": "code",
   "execution_count": 10,
   "metadata": {},
   "outputs": [],
   "source": [
    "#Read in data from a pickle file\n",
    "df = pd.read_pickle(\"beer_data.pickle\")\n",
    "\n",
    "#Shorten the dataset for testing purposes\n",
    "df = df.head(5000)"
   ]
  },
  {
   "cell_type": "markdown",
   "metadata": {},
   "source": [
    "We create a sparse pivot table which groups together the data in a meaningful way so we can train it later.\n",
    "In this case, we want out pivot table to contain the users, the item they rated, and the rating value. The rest of the values will be filled with 0s."
   ]
  },
  {
   "cell_type": "code",
   "execution_count": 11,
   "metadata": {},
   "outputs": [],
   "source": [
    "# create a sparse pivot table\n",
    "df_pivot = df.pivot_table(index='review_profilename', columns='beer_name', values='review_overall').fillna(0)"
   ]
  },
  {
   "cell_type": "markdown",
   "metadata": {},
   "source": [
    "Next we need to determine the number of components we want to use for our truncated SVD.\n",
    "\n",
    "We decide this value by using Catell's [scree test](https://en.wikipedia.org/wiki/Scree_plot). We'll plot the eigenvalues of different component values, and determine the number of components that would best suit our TSVD."
   ]
  },
  {
   "cell_type": "code",
   "execution_count": 12,
   "metadata": {},
   "outputs": [
    {
     "data": {
      "text/plain": [
       "(475, 2137)"
      ]
     },
     "execution_count": 12,
     "metadata": {},
     "output_type": "execute_result"
    }
   ],
   "source": [
    "T = df_pivot.values.T\n",
    "T.shape"
   ]
  },
  {
   "cell_type": "code",
   "execution_count": 13,
   "metadata": {},
   "outputs": [],
   "source": [
    "def explained_variance(list_n_components):\n",
    "    \n",
    "    out = []\n",
    "    \n",
    "    for num in list_n_components:\n",
    "        SVD = TruncatedSVD(n_components=num,random_state=num)\n",
    "        SVD.fit_transform(T)\n",
    "        evar = np.sum(SVD.explained_variance_ratio_)\n",
    "        t = (num,evar)\n",
    "        out.append(t)\n",
    "    \n",
    "    return out"
   ]
  },
  {
   "cell_type": "code",
   "execution_count": 14,
   "metadata": {},
   "outputs": [],
   "source": [
    "n = [50,100,150,200,250,300,400,600,700,1000,1200,1400,1500]\n",
    "exp_var = explained_variance(n)"
   ]
  },
  {
   "cell_type": "code",
   "execution_count": 15,
   "metadata": {},
   "outputs": [
    {
     "data": {
      "text/plain": [
       "[<matplotlib.lines.Line2D at 0x7fa19e984280>]"
      ]
     },
     "execution_count": 15,
     "metadata": {},
     "output_type": "execute_result"
    },
    {
     "data": {
      "image/png": "[encoded data removed]",
      "text/plain": [
       "<Figure size 640x480 with 1 Axes>"
      ]
     },
     "metadata": {},
     "output_type": "display_data"
    }
   ],
   "source": [
    "x,y = zip(*exp_var)\n",
    "plt.plot(x, y)"
   ]
  },
  {
   "cell_type": "markdown",
   "metadata": {},
   "source": [
    "Looking at the plot, we see that the number of components starts to level off at around 600 components.\n",
    "\n",
    "So, we will create a TSVD with 600 components."
   ]
  },
  {
   "cell_type": "code",
   "execution_count": 16,
   "metadata": {},
   "outputs": [],
   "source": [
    "SVD = TruncatedSVD(n_components=600,random_state=600)\n",
    "matrix = SVD.fit_transform(T)"
   ]
  },
  {
   "cell_type": "code",
   "execution_count": 17,
   "metadata": {},
   "outputs": [],
   "source": [
    "#Create the correlation matrix\n",
    "corr = np.corrcoef(matrix)"
   ]
  },
  {
   "cell_type": "code",
   "execution_count": 21,
   "metadata": {},
   "outputs": [
    {
     "name": "stdout",
     "output_type": "stream",
     "text": [
      "[\"'Pooya Porter\", '10 Blocks South', '15th Anniversary', '2001 - A Stout Odyssey', \"Ackerman's Imperial Double Stout (Indiana Replicale 2011)\", \"Ackerman's Imperial Double Stout (Winterfest Replicale 2011)\", 'Akron Dopple Alt', 'Alpha Beta', 'Alt', 'Alt-Ernative Amber', 'Altbier', 'Amalgamated Dunkel', 'Amalgamated Helles', 'Amalgamated IPA', 'Amalgamated Märzen', 'Amalgamated Rauchbier', 'Amalgamated Zoigl', 'Amarillo Lager', 'Amarillo On My Mind', 'Amarillo Single Hop Pale Ale', 'Amber IPA', 'American Pale Ale', 'Amstel (Pure Filtered)', 'Amstel 1870', 'Amstel Bock', 'Amstel Bright', 'Amstel Gold', 'Amstel Lager', 'Amstel Lentebock', 'Amstel Light', 'Amstel Malt', 'Amstel Oud Bruin', 'Amstel Sterk (Strong)', 'Ankle Biter Ale \"06', \"Ankle Biter Ale '07\", 'Antebellum Ale', 'Apparition Ale', 'Apparition Ale Cask With Fuggles Hops', 'Apparition Ale Cask With Sovereign Hops', 'Apple Chucker', 'Arnstädter UrBock', 'Ashland Amber', 'Asmara Lager Beer', 'B.O.R.I.S. #100', 'B.O.R.I.S. The Crusher Oatmeal-Imperial Stout', 'BORIS Royale', 'Ballz Deep Double IPA', 'Barrel Aged B.O.R.I.S. Oatmeal Imperial Stout', 'Barrel Aged Frosted Frog Christmas Ale', 'Barrel Aged Naked Evil', 'Barrel Aged Port Royal Stout W/ Vanilla Beans', 'Battery Hill Bitter', 'Bay Street Brown Ale', 'Bees Knees Honey Ale', 'Belgian Red With Brettanomyces Yeast', 'Bernard Celebration Lager', 'Bernard Cerne', 'Bernard Dark', 'Bernard Jantarový Le\\x9eák', 'Bernard Light 10° - Bernard Sv&#283;tlé Pivo 10°', 'Bernard Nefiltrovaný (unfiltered)', 'Bernard S &#269;istou Hlavou', 'Bernard Semi-dark Lager (polotmavy Lezak)', 'Bernard Svetly Lezak', 'Bernard Sváte&#269;ní Le\\x9eák', 'Bierre De Garde', 'Big Aft Pale Ale', \"Bigger Boy's Beer\", 'Bjava Porter', 'Black & Tan', 'Black Cobra Stout', 'Black Cuillin', 'Black Forest', 'Black Heart Lager', 'Black Horse Black Beer', 'Black IPA', 'Black Night Black Lager', 'Black River Imperial Stout', 'Blaven', 'Blonde Ambition', 'Blue Whale Ale', 'Bluffdiver IPA', 'Bourbon Barrel Stout (Clay Street Series)', 'BourbonDog ESB', 'Brau Rauck', 'Brew Eyed Blond', 'Brew Eyed Lager', \"Brewer's Reserve Series: Dunkelweiss\", 'British Pale Ale', 'Broad Ripple Ankle Biter 2003', 'Broad Ripple Ankle Biter 2004', 'Broad Ripple Diving Duck American Brown Ale', 'Broad Ripple Evilsizors Russian Imperial Stout', 'Broad Ripple Lawnmower Pale Ale', 'Broad Ripple Stout', 'Brouemont Imperial India Pale Ale', 'Brouemont India Pale', 'Brouemont Russian Imperial Stout', 'Brown Ale', 'Brown Nose Ale', \"Brown's Point ESB\", 'Buckeye Brown', 'Burning Barrel', 'Cafe BORIS', 'Calapooia Barleywine', 'Caldera Ginger Beer', 'Caldera IPA', 'Caldera Märzen', 'Caldera OBF 15', 'Caldera Oatmeal Stout', 'Caldera Pale Ale', 'Caldera Pilsener Bier', 'Caldera Rose Petal (Kettle Series)', 'California Common', 'Cardinal Ale', 'Cascadian Dark Ale', 'Cauldron Brew', 'Cauldron DIPA', 'Cauldron Espresso Stout', 'Celebration Ale', 'Centennial Pale Ale', 'Chili Beer', 'Christian Firtal', 'Christian Firtal Guldøl', 'City Amber', 'City Light', 'City Pale Ale', 'City Pumpkin', 'City Razz', 'City Stout', 'Claire De Lune', 'Coco Loco', 'Coconut Porter', 'Code Blue', 'Columbus India Pale Ale', 'Conscious Sedaison', 'Copper Ale', \"Cutt's Ale\", 'D.O.R.I.S. The Destroyer Double Imperial Stout', 'Dansk Pilsner', 'Dark Bock', 'Dark De Triomphe', 'Dark Star Porter', 'Dark Wheat', 'De 5 Gaarde Falle Høstbryg', 'Deceiver', 'Devanha Scottish XXX Ale', 'Deviator Doppelbock', \"Devil's Hole Stout\", 'Digital IPA', 'Dixie Crystal Beer', 'Double Pilsner', 'Dry Hop Orange', 'Dry Hop Red', 'Dry Stout', 'Dual Citizenship Ale', 'Dubbelicious', 'Dunkel Weizen', 'E.S.B.', 'Elora Irish Ale', 'Elora Special Bitter', 'Emerald Ale', 'Erstes Forchheimer Braunbier', 'Exotic Erotic Passion Fruit Ale', 'Extra Pale Ale', \"Falconer's Rye\", 'Farmhouse Ale', 'Festival Bock', \"Finneen's Auld Sod Stout\", 'Flood Stage Red', 'Flying Aces Ale', 'Flying Aces Pale Ale', 'Founders Breakfast Stout', 'Founders Cerise', \"Founders Red's Rye PA\", 'Fresh Frog Raw Hop Imperial Pale Ale', 'Fresh Hop Rye', 'Froegaarden', \"Frog's Hollow Double Pumpkin Ale\", 'Frosted Frog Christmas Ale', 'Galleria Espresso Stout', \"Gene's American Brown Ale\", 'Georgia Belgique', 'Germinator Doppelbock', \"Goin' Monk\", 'Golden Hawk Wheat', 'Goldhorn Club', 'Gosch', 'Grey Whale Ale', \"Gripman's Porter\", 'Gulden Fraug Belgian Style Ale', 'Hallidie S. Ale', 'Harboe Bear Beer Premium Strong Beer', 'Harboe Bjørnebryg (Bear Beer)', 'Harboe Bjørnebryg 2,8%', 'Harboe Bjørnebryg Extra Stark (Bear Beer Extra Strong)', 'Harboe Classic 110', 'Harboe Classic 2,8%', 'Harboe Den Glada Danskens Lättöl', 'Harboe Dunkel', 'Harboe Guldøl (Harboe Beer Gold)', 'Harboe Julebryg', 'Harboe Kräftöl', 'Harboe Pilsner', 'Harboe Pilsner 2,8%', 'Harboe Pilsner 3,5%', 'Harboe Premium Traditional Pilsner 4.6%', 'Harboe Påskebryg 2,8%', 'Harboe Red Beer', 'Harboe Silver Beer 3,5%', 'Harboe Sommarbrygg', 'Harboe Vib Pilsner Classic Landlord', 'Harboe Vib Pilsner Håndbajer', 'Harboe Årgangssbryg', 'Harbroe Classic Beer 2,8%', 'Hebridean Gold Porridge Oat Ale', 'Hefe Weizen', 'Hefe-Weizen', 'Hefeweizen', 'Helles Honey Bock', 'Her Majesty 2010', 'Her Majesty 2011', 'Herkulean IPA', \"Herr Kevin's Alt Bier\", 'Hibiscus Ginger Beer', 'High Country Hefeweizen', 'Holiday Ale', 'Holiday Imperial', 'Holiday Trappist Style Ale', 'Holiday XXII Imperial Blue', 'Holidays R Over Spiced Ale', 'Honey Bock', 'Honey Brown Lager', 'Honey Fayre', 'Hop Crisis Extra Pale Ale', 'Hop Dam Triple IPA', 'Hop Hash', \"Hop Master's Abbey Belgian-Style Double IPA\", 'Hop Project #35', 'Hop Prophet', 'Hop Rye Pale', 'Hop, Drop ‘n Roll', 'Hopcicle Double IPA', \"Hoppin' To Heaven IPA\", 'Hoppocratic Oath', 'Hopportunity Knocks', 'Hopturnal Emissions', 'Horse Piss Beer', 'Houblon Wit', \"Hud-a-wa' Strong\", 'I.P.A.', 'IPA', 'Imperial American Porter (2010 Beer Week Collaboration With Rocky River)', 'Imperial Stout', 'Inspiration Ale', 'Irish Stout', 'Jack Daniels Barrel Aged Porter', 'Killer Whale Stout', 'Kirkland Signature Amber Ale', 'Kirkland Signature German Style Lager', 'Kirkland Signature Hefeweizen', 'Kirner Pils Premium', 'Kollers Naturtrüb Dunkel', 'Kollers Naturtrüb Hell', 'Kringle Krack', 'Kölsch', 'LOTR Polotmavy 14', 'La Binchoise Spéciale Noël (Reserve Special - USA)', 'Lasko Club', 'Lawn Mower Pale Ale', 'Lawnmower Lager', 'Lemke Pils', 'Leviathan Imperial Stout', 'Limping Mallard', 'Little Chocolate Doughnuts', \"Luck O' The Irish\", 'Mai-Rye-Bock', 'Marauder (Born From Wood Series)', 'Mariposa Golden Amber', 'Marzen', 'Massive IPA', 'Mean Manalishi Double I.P.A.', 'Meaner Manalishi Double I.P.A.', 'Meet Your Maker', 'Megalodon', \"Mephistopheles' Metamorphosis\", 'Meta Export Lager', 'Mogli', 'Monon Porter', 'Moon Dance Pale Ale', 'Moon Light', 'Motueka Monster', 'Mt. Takhoma Blonde Ale', 'Naughty List', 'Neder Faßbier', 'Neder Festbier', 'Neder Keller Bier', 'Nerdherder D', 'Netto \"24\" Fødselsdags-Bryg', 'Newark IPA', \"Nick's Balls Of Gold\", \"NoDa Rye Z'd\", 'Nobu Special Reserve', 'North Beach Ale', 'Nut Brown', 'Nut Brown Ale', \"O'Hoppy IPA\", 'OX', 'Oak-Aged Black River Imperial Stout', 'Oatboy Imperial IPA', 'Oatmeal Stout', 'Ogeechee Amber Ale', 'Ohio Pumpkin Ale', 'Oktoberfest', \"Ol' Lickspigot Barleywine\", 'Old Growth Imperial Stout', 'Old Oakland Ale', 'Old Orange Cannonball', 'Old Orange Old Dummy', 'Old Orange Street Fair', 'Old Skool', 'One Hop Wonder #9 - Columbus', 'Orca Porter', 'Orgemont Bière Des Moissons', 'Orgemont Bière Rèmes Speciale Au Marc De Champagne', 'Orgemont Blonde', 'Orgemont Brune', 'Orgemont Triple', 'Original Lager', 'Otro Mundo Golden Ale', 'Outta Kilter', 'PBJ', 'Pacific Pilsner', 'Pale Ale', 'Parislytic', 'Peachy Sour Brown Ale', 'Pick Axe IPA', 'Pike Double IPA', 'Pilot Rock Porter', 'Pilsner', 'Polymer Pilsner', 'Port Royal Stout', 'Porter', 'Porter Fume', 'Pot Kettle Black', 'Pra\\x9ee&#269;ka Christmas', \"Professor Gesser's Mind Numbing Ale\", 'Pumpkin Ale', 'Quaker Oatmeal Stout', 'Ramble On Red', 'Rauch Ür Bock', 'Raudonyu Dobilu Alus', 'Red Alt Ale', 'Red Bird Mild', 'Red Cuillin', 'Red Lady Ale', 'Red Moon', 'Red Rackham', 'Red Rocket Amber Ale', 'Red Rye Ale', 'Red Stallion', 'Replic Ale', 'Replic Ale (2010)', 'Return To Magenta', 'Rex Attitude', 'Ring Of Fire', 'Riparian IPA', 'Rising River Rye', 'River Raiders Ale', 'Riverdog ESB', 'Robert Moses Pale Ale', 'Rodeo Stout', 'Roggen', 'Roggenbier', 'Rosemary IPA', 'Rude Parrot', 'Rye IPA 75', 'Saints Ambrosia', 'Saison Du Sept Mers', 'San Francisco Pale Ale', 'Santa Baby', \"Santa's Smokin' Winter Warmer\", 'SantiAmber Ale', 'Sausa Pils', 'Sausa Weizen', 'Savannah Fest Beer', 'Schinderhannes Bock', 'Schwarze Anna', 'Scotch Ale', 'Simcoe Springs IPA', 'Six Degrees Belgian Golden Ale', 'Six Degrees Belgian Golden Ale Cask With Cardamom And Lemongrass', 'Skunk-Ape Stout', 'Skyelight', 'Skælskør Original Black', 'Sleigh Ryed', 'Slow-Vannah Pale Ale', 'Slow-Vannah Pale Ale Cask With Citra Hops', \"Smashin' Berry Dark\", 'Smashing Berry Ale', 'Smoked Porter', 'Snaggletooth Stout', 'Solshine', \"Somethin' Lite\", 'Southside Strong', \"Sparky's Chocolate Milk Stout\", 'Special Reserve Ale', 'Special Reserve Oud Bruin', 'Splashing Pumpkin', 'Spring Bock', 'St. Anna Festbier', \"St. Stephen's Bock\", 'Steamboat Stout', 'Steel Valley Stout', 'SueBee Honey Ale', 'Sushi Roku Red Sun', 'Swamp Fox IPA', 'Swannanoa Sunset', 'Sweet Dark', 'Sweet Stout', \"T.J.'s Best Bitter\", 'Tarasgeir', 'Telford Porter', 'Tenebra', 'Terminator Stout', 'Test Batch#1: An Amercian Pale Ale', 'The Bomb-Dry Stout', \"The Captain's Porter\", 'The Highland Stagger', 'The Rod \"winter\" Stout', 'The Tater Ale', 'Tigh Dearg Ale', 'Tilted Kilt', 'Toffee Porter', 'Tomahawk Special American Pale Ale', 'Toubab Brewe', 'Trafalgar Cedar Cream Ale', 'Trafalgar Smoked Oatmeal Stout', 'Triple Chocolate Stout', 'Turbo Shandy', 'Twice Bitten', 'Unas Mas! (Simcoe Hops)', 'Undertow', 'Vas Deferens Ale', 'Verich Gold', 'Viven Blond', 'Viven Imperial IPA', 'Viven Porter', 'Voodoo Bock', \"Walker's Ale\", 'Washougal Wheat', 'Wee Alec Heavy', 'Wee Beast (Cuillin Beast)', 'Weiss Beer', 'Weizen', 'Welsh Honey Bitter', 'Welsh Pride', 'Wheat Ale', 'Wheat Beer', 'Wheelchair', 'Wheezy Heifer', 'White Buffalo Peace Ale', 'White Rapids Ale', 'White Squirrel', 'White Water Wheat', 'Wild Frog Wheat Ale', 'Wild Wacky Wit', 'Winter Wheat', 'Wobbly Bob APA', 'X-Extra Pale Ale', 'Yakima Monster', 'Yankee Clipper IPA', 'Yellowjacket Ale', 'YouEnjoyMyStout', 'Zhigulovskoye']\n"
     ]
    }
   ],
   "source": [
    "#Put all the beer names in a list\n",
    "beer_names = df_pivot.columns\n",
    "beer_names_list = list(beer_names)\n",
    "\n",
    "print(beer_names_list)"
   ]
  },
  {
   "cell_type": "code",
   "execution_count": 19,
   "metadata": {},
   "outputs": [],
   "source": [
    "#Takes in the name of the beer and returns the top n nunber of recommended beers\n",
    "\n",
    "def beer_recs(beer_name, n):\n",
    "\n",
    "    beer_idx = beer_names_list.index(beer_name)\n",
    "    \n",
    "    sim_idx = corr[beer_idx] #Get the similararity index of the input beer\n",
    "\n",
    "    #Create a list of tuples (beer name, correlation coefficient)\n",
    "    similar = []    \n",
    "    for idx, coeff in enumerate(sim_idx):\n",
    "        similar.append((beer_names_list[idx],coeff))\n",
    "    \n",
    "    similar.sort(key=lambda x: x[1], reverse=True)\n",
    "    \n",
    "    out = []\n",
    "    \n",
    "    for i in range(1,n+1):\n",
    "        out.append(similar[i][0])\n",
    "        \n",
    "    return out"
   ]
  },
  {
   "cell_type": "code",
   "execution_count": 22,
   "metadata": {},
   "outputs": [
    {
     "data": {
      "text/plain": [
       "['Broad Ripple Ankle Biter 2003',\n",
       " 'Broad Ripple Diving Duck American Brown Ale',\n",
       " 'Broad Ripple Ankle Biter 2004',\n",
       " 'Wheat Beer',\n",
       " 'Broad Ripple Lawnmower Pale Ale']"
      ]
     },
     "execution_count": 22,
     "metadata": {},
     "output_type": "execute_result"
    }
   ],
   "source": [
    "beer_recs('Broad Ripple Stout',5)"
   ]
  },
  {
   "cell_type": "code",
   "execution_count": 24,
   "metadata": {},
   "outputs": [
    {
     "data": {
      "text/plain": [
       "['Red Moon',\n",
       " 'Sausa Pils',\n",
       " 'Sausa Weizen',\n",
       " 'Kollers Naturtrüb Dunkel',\n",
       " 'Kollers Naturtrüb Hell']"
      ]
     },
     "execution_count": 24,
     "metadata": {},
     "output_type": "execute_result"
    }
   ],
   "source": [
    "beer_recs('Red Moon',5)"
   ]
  },
  {
   "cell_type": "code",
   "execution_count": 25,
   "metadata": {},
   "outputs": [
    {
     "data": {
      "text/plain": [
       "['Red Rye Ale', 'Wheat Ale', 'Pale Ale', 'IPA', 'Ashland Amber']"
      ]
     },
     "execution_count": 25,
     "metadata": {},
     "output_type": "execute_result"
    }
   ],
   "source": [
    "beer_recs('SueBee Honey Ale',5)"
   ]
  },
  {
   "cell_type": "code",
   "execution_count": 26,
   "metadata": {},
   "outputs": [
    {
     "data": {
      "text/plain": [
       "['Yankee Clipper IPA',\n",
       " \"Santa's Smokin' Winter Warmer\",\n",
       " 'Exotic Erotic Passion Fruit Ale',\n",
       " 'Cascadian Dark Ale',\n",
       " 'Saison Du Sept Mers']"
      ]
     },
     "execution_count": 26,
     "metadata": {},
     "output_type": "execute_result"
    }
   ],
   "source": [
    "beer_recs('Rude Parrot',5)"
   ]
  },
  {
   "cell_type": "code",
   "execution_count": null,
   "metadata": {},
   "outputs": [],
   "source": []
  }
 ],
 "metadata": {
  "kernelspec": {
   "display_name": "Python 3.9",
   "language": "python",
   "name": "python3"
  },
  "language_info": {
   "codemirror_mode": {
    "name": "ipython",
    "version": 3
   },
   "file_extension": ".py",
   "mimetype": "text/x-python",
   "name": "python",
   "nbconvert_exporter": "python",
   "pygments_lexer": "ipython3",
   "version": "3.9.16"
  }
 },
 "nbformat": 4,
 "nbformat_minor": 4
}
