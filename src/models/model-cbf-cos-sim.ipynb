{
 "cells": [
  {
   "cell_type": "markdown",
   "metadata": {},
   "source": [
    "In this model we will use a [cosine similarity](https://en.wikipedia.org/wiki/Cosine_similarity) metric, which we can use for content-based filtering by comparing the beers directly to each other.\n",
    "\n",
    "We'll collect the attributes of all the beers into a [bag-of-words](https://en.wikipedia.org/wiki/Bag-of-words_model) and calculate the similarity between those attributes."
   ]
  },
  {
   "cell_type": "code",
   "execution_count": 1,
   "metadata": {},
   "outputs": [],
   "source": [
    "import pandas as pd\n",
    "import pickle \n",
    "\n",
    "from sklearn.feature_extraction.text import CountVectorizer\n",
    "from sklearn.metrics.pairwise import cosine_similarity"
   ]
  },
  {
   "cell_type": "markdown",
   "metadata": {},
   "source": [
    "First, we modify our data to be two columns, the beer name and the attributes that describe the beer in string format. "
   ]
  },
  {
   "cell_type": "code",
   "execution_count": 2,
   "metadata": {},
   "outputs": [],
   "source": [
    "#Read in data from pickle\n",
    "\n",
    "df = pd.read_pickle(\"beer_data.pickle\")\n",
    "\n",
    "df = df.drop_duplicates(subset=['beer_name'])\n",
    "\n",
    "cols = ['brewery_name', 'beer_style']\n",
    "df['key_words'] = df[cols].apply(lambda row: '_'.join(row.values.astype(str)), axis=1)\n",
    "\n",
    "dfbag = df[['beer_name', 'key_words']].copy()\n",
    "\n",
    "dfbag[\"key_words\"] = dfbag[\"key_words\"].str.lower()\n",
    "dfbag[\"key_words\"] = dfbag[\"key_words\"].replace('/', '')\n",
    "\n",
    "dfbag = dfbag.reset_index(drop=True)"
   ]
  },
  {
   "cell_type": "markdown",
   "metadata": {},
   "source": [
    "We will create a matrix using the sk-learn's CountVectorizer. This module allows use to use textual data for predictive modeling. For this to happen, the text needs to be parsed to remove certain words, also known as tokenization. Those words then need to be encoded as integers for use as inputs in ML algorithms. This entire process is cqalled feature extraction."
   ]
  },
  {
   "cell_type": "code",
   "execution_count": 3,
   "metadata": {},
   "outputs": [
    {
     "data": {
      "text/plain": [
       "(17578, 4882)"
      ]
     },
     "execution_count": 3,
     "metadata": {},
     "output_type": "execute_result"
    }
   ],
   "source": [
    "count = CountVectorizer()\n",
    "count_matrix = count.fit_transform(dfbag['key_words'])\n",
    "count_matrix.shape"
   ]
  },
  {
   "cell_type": "code",
   "execution_count": 4,
   "metadata": {},
   "outputs": [],
   "source": [
    "#Generate the cosine similarity matrix\n",
    "cosine_sim = cosine_similarity(count_matrix, count_matrix)"
   ]
  },
  {
   "cell_type": "code",
   "execution_count": 5,
   "metadata": {},
   "outputs": [
    {
     "data": {
      "text/plain": [
       "12607    Coors\n",
       "Name: beer_name, dtype: object"
      ]
     },
     "execution_count": 5,
     "metadata": {},
     "output_type": "execute_result"
    }
   ],
   "source": [
    "# Create a Series for the beers so they are associated to an ordered numerical list\n",
    "indices = pd.Series(dfbag['beer_name'])\n",
    "indices[indices == 'Coors']"
   ]
  },
  {
   "cell_type": "code",
   "execution_count": 6,
   "metadata": {},
   "outputs": [],
   "source": [
    "#Takes in the name of the beer and returns the top n nunber of recommended beers\n",
    "\n",
    "def beer_recs(string, n, cosine_sim = cosine_sim):\n",
    "    \n",
    "    recommended_beers = []\n",
    "    \n",
    "    #Get the index of the beer that matches the beer name\n",
    "    idx = indices[indices == string].index[0]\n",
    "    \n",
    "    #Creating a Series with the similarity scores in descending order\n",
    "    score_series = pd.Series(cosine_sim[idx]).sort_values(ascending = False)\n",
    "\n",
    "    #Get the indices of the n most similar unique beers\n",
    "    n = n + 1\n",
    "    top_n_indexes = list(score_series.iloc[1:n].index)\n",
    "    \n",
    "    #Populating the list with the names of the n most similar beers\n",
    "    for i in top_n_indexes:\n",
    "        recommended_beers.append(dfbag.iloc[i]['beer_name'])\n",
    "        \n",
    "    return recommended_beers"
   ]
  },
  {
   "cell_type": "code",
   "execution_count": 7,
   "metadata": {
    "scrolled": true
   },
   "outputs": [
    {
     "data": {
      "text/plain": [
       "['Imperial IPA',\n",
       " 'Hopknocker Imperial IPA',\n",
       " 'Loopy Lupulin Double IPA',\n",
       " 'Arbor Brewing Aurora Arborealis',\n",
       " '724.0']"
      ]
     },
     "execution_count": 7,
     "metadata": {},
     "output_type": "execute_result"
    }
   ],
   "source": [
    "beer_recs('Cauldron DIPA', 5)"
   ]
  },
  {
   "cell_type": "code",
   "execution_count": 8,
   "metadata": {},
   "outputs": [
    {
     "data": {
      "text/plain": [
       "['Sausa Pils',\n",
       " 'Red Moon',\n",
       " 'Black Horse Black Beer',\n",
       " 'Tadarida IPA',\n",
       " 'Saison 2.1']"
      ]
     },
     "execution_count": 8,
     "metadata": {},
     "output_type": "execute_result"
    }
   ],
   "source": [
    "beer_recs('Sausa Weizen', 5)"
   ]
  },
  {
   "cell_type": "code",
   "execution_count": 9,
   "metadata": {},
   "outputs": [
    {
     "data": {
      "text/plain": [
       "['Keystone Ice',\n",
       " 'Coors',\n",
       " 'Batch 19',\n",
       " 'Keystone Premium',\n",
       " 'Olympia Genuine Draft']"
      ]
     },
     "execution_count": 9,
     "metadata": {},
     "output_type": "execute_result"
    }
   ],
   "source": [
    "beer_recs('Coors', 5)"
   ]
  },
  {
   "cell_type": "code",
   "execution_count": 10,
   "metadata": {},
   "outputs": [],
   "source": [
    "df = df.drop_duplicates(subset=['beer_name'])\n",
    "\n",
    "# Shorten the dataset for testing purposes\n",
    "df = df.head(9000)\n",
    "# df = df.head(40000)\n",
    "\n",
    "cols = ['brewery_name', 'beer_style', 'beer_abv']\n",
    "df['key_words'] = df[cols].apply(lambda row: '_'.join(row.values.astype(str)), axis=1)\n",
    "\n",
    "dfbag = df[['beer_name', 'key_words']].copy()\n",
    "\n",
    "dfbag[\"key_words\"] = dfbag[\"key_words\"].str.lower()\n",
    "dfbag[\"key_words\"] = dfbag[\"key_words\"].replace('/', '')\n",
    "\n",
    "dfbag = dfbag.reset_index(drop=True)\n",
    "\n",
    "count = CountVectorizer()\n",
    "count_matrix = count.fit_transform(dfbag['key_words'])\n",
    "\n",
    "# Generate the cosine similarity matrix\n",
    "cosine_sim = cosine_similarity(count_matrix, count_matrix)\n",
    "\n",
    "# Create a Series for the beers so they are associated to an ordered numerical list\n",
    "indices = pd.Series(dfbag['beer_name'])"
   ]
  },
  {
   "cell_type": "code",
   "execution_count": null,
   "metadata": {},
   "outputs": [],
   "source": [
    "import awswrangler as wr\n",
    "\n",
    "pickle_out_cos_sim_cosine_sim = open('cosine_sim.pickle', 'wb')\n",
    "pickle_out_cos_sim_indices = open('indices.pickle', 'wb')\n",
    "pickle_out_cos_sim_dfbag = open('dfbag.pickle', 'wb')\n",
    "pickle.dump(cosine_sim, pickle_out_cos_sim_cosine_sim)\n",
    "pickle.dump(indices, pickle_out_cos_sim_indices)\n",
    "pickle.dump(dfbag, pickle_out_cos_sim_dfbag)\n",
    "pickle_out_cos_sim_cosine_sim.close()\n",
    "pickle_out_cos_sim_indices.close()\n",
    "pickle_out_cos_sim_dfbag.close()\n",
    "\n",
    "df = wr.s3.read_csv(\"s3://geoallen-model-serving/beer-recs/\")\n",
    "\n",
    "wr.s3.upload(local_file='./cosine_sim.pickle', path='s3://geoallen-model-serving/beer-recs/cosine_sim.pickle')\n",
    "\n",
    "# with open(file='./cosine_sim.pickle', mode='wb') as local_f:\n",
    "# wr.s3.upload(local_file=local_f, path='s3://geoallen-model-serving/beer-recs/')\n"
   ]
  },
  {
   "cell_type": "code",
   "execution_count": null,
   "metadata": {},
   "outputs": [],
   "source": []
  }
 ],
 "metadata": {
  "kernelspec": {
   "display_name": "Python 3.9",
   "language": "python",
   "name": "python3"
  },
  "language_info": {
   "codemirror_mode": {
    "name": "ipython",
    "version": 3
   },
   "file_extension": ".py",
   "mimetype": "text/x-python",
   "name": "python",
   "nbconvert_exporter": "python",
   "pygments_lexer": "ipython3",
   "version": "3.9.16"
  }
 },
 "nbformat": 4,
 "nbformat_minor": 4
}
